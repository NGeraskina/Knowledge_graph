{
 "cells": [
  {
   "cell_type": "markdown",
   "id": "550e22c2",
   "metadata": {},
   "source": [
    "# Создание графа"
   ]
  },
  {
   "cell_type": "markdown",
   "id": "837c53e9",
   "metadata": {},
   "source": [
    "## Извлечение информации из Википедии"
   ]
  },
  {
   "cell_type": "code",
   "execution_count": 1,
   "id": "0aa9f9ae",
   "metadata": {},
   "outputs": [],
   "source": [
    "import pandas as pd\n",
    "import wikipediaapi\n",
    "from tqdm import tqdm\n",
    "\n",
    "def scrape_wikipedia(name_topic, language = 'en'):\n",
    "    '''\n",
    "    функция, которая производит выгрузку названий и категорий статей Википедии по заданной теме (name_topic)\n",
    "    также предусмотрена возможность выгружать данные не только с англоязчной Википедии\n",
    "    '''\n",
    "    def link_to_wikipedia(link):\n",
    "        '''\n",
    "        функция, которая выгружает необходимую информации о статье Википедии по ссылке (link), при условии ее существования\n",
    "        '''\n",
    "        try:\n",
    "            page = api_wikipedia.page(link)\n",
    "            if page.exists() and page.categories:\n",
    "                return {'page': link,  'categories': list(page.categories.keys())}\n",
    "        except:\n",
    "            return None\n",
    "\n",
    "    # производим подключение к Wikipedia ARI, данные извлекаются в формате WIKI, а не HTML\n",
    "\n",
    "    api_wikipedia = wikipediaapi.Wikipedia(language=language, extract_format=wikipediaapi.ExtractFormat.WIKI)\n",
    "    \n",
    "#     достаем страницы по топику, то есть по моей предметной области\n",
    "    name_of_page = api_wikipedia.page(name_topic)\n",
    "#     если не существует страниц по топику, то выводит на экран, что статей по топику не существует\n",
    "    if not name_of_page.exists():\n",
    "        print(f'Page {name_of_page} is not present')\n",
    "        return\n",
    "#   сохраняем ссылки на страницы по топику\n",
    "    links_to_page = list(name_of_page.links.keys())\n",
    "    \n",
    "#     делает бегущую заполняющуюся полоску, чтоб отслеживать процесс\n",
    "#   в origin записываем набор данных о первой странице по топику, затем сюда записываются остальные результаты выгрузки статей по топику\n",
    "#   если они существуют\n",
    "    origin = [{'page': name_topic,  'categories': list(name_of_page.categories.keys())}]\n",
    "    for link in tqdm(links_to_page):\n",
    "        if link_to_wikipedia(link)!=None:\n",
    "            origin.append(link_to_wikipedia(link))\n",
    "    \n",
    "\n",
    "#   сохраняем собранные данные в таблицу Pandas\n",
    "    origin = pd.DataFrame(origin)\n",
    "    namespaces = ('Wikipedia', 'Special', 'Talk', 'LyricWiki', 'File', 'MediaWiki',\n",
    "                  'Template', 'Help', 'User', 'Category talk', 'Portal talk','Category','Portal')\n",
    "#   отбираем только те топики, название которых не содержится в namespaces, тк это не нужные статьи \n",
    "    origin = origin[~(origin['page'].str.startswith(namespaces, na=True))]\n",
    "#     в категориях отрезаем первые символы до последнего двоеточия \n",
    "#     (Caregory:):\n",
    "    origin['categories'] = origin.categories.apply(lambda a: [b[len(b)-b[::-1].index(':'):] for b in a])\n",
    "#     выводим сколько страниц было просмотрено\n",
    "    print('Scraped pages', len(origin))\n",
    "#   в результате выводим таблицу с собранными данными\n",
    "    return origin"
   ]
  },
  {
   "cell_type": "code",
   "execution_count": 41,
   "id": "7f63a8a6",
   "metadata": {},
   "outputs": [
    {
     "name": "stderr",
     "output_type": "stream",
     "text": [
      "100%|████████████████████████████████████████████████████████████████████████████████| 600/600 [09:36<00:00,  1.04it/s]"
     ]
    },
    {
     "name": "stdout",
     "output_type": "stream",
     "text": [
      "Scraped pages 579\n"
     ]
    },
    {
     "name": "stderr",
     "output_type": "stream",
     "text": [
      "\n"
     ]
    }
   ],
   "source": [
    "#запускаю функцию для выгрузки информации из Википедии по теме brand\n",
    "data = scrape_wikipedia('brand', language = 'en')"
   ]
  },
  {
   "cell_type": "code",
   "execution_count": 45,
   "id": "2fb58cfd",
   "metadata": {},
   "outputs": [
    {
     "data": {
      "text/plain": [
       "(579, 2)"
      ]
     },
     "execution_count": 45,
     "metadata": {},
     "output_type": "execute_result"
    }
   ],
   "source": [
    "data.shape"
   ]
  },
  {
   "cell_type": "code",
   "execution_count": 55,
   "id": "0f1401ef",
   "metadata": {},
   "outputs": [],
   "source": [
    "# распаковка списка в ячейках\n",
    "data_new = data.explode('categories')\n",
    "# сохранение результатов выгрузки в файл формата csv\n",
    "data_new.to_csv('data for work.csv')"
   ]
  },
  {
   "cell_type": "markdown",
   "id": "5277a556",
   "metadata": {},
   "source": [
    "## Обработка данных "
   ]
  },
  {
   "cell_type": "code",
   "execution_count": 56,
   "id": "7ac8eb41",
   "metadata": {},
   "outputs": [],
   "source": [
    "import pandas as pd\n",
    "from pyvis.network import Network\n",
    "import networkx as nx"
   ]
  },
  {
   "cell_type": "code",
   "execution_count": 60,
   "id": "f34e899f",
   "metadata": {},
   "outputs": [
    {
     "data": {
      "text/html": [
       "<div>\n",
       "<style scoped>\n",
       "    .dataframe tbody tr th:only-of-type {\n",
       "        vertical-align: middle;\n",
       "    }\n",
       "\n",
       "    .dataframe tbody tr th {\n",
       "        vertical-align: top;\n",
       "    }\n",
       "\n",
       "    .dataframe thead th {\n",
       "        text-align: right;\n",
       "    }\n",
       "</style>\n",
       "<table border=\"1\" class=\"dataframe\">\n",
       "  <thead>\n",
       "    <tr style=\"text-align: right;\">\n",
       "      <th></th>\n",
       "      <th>page</th>\n",
       "      <th>categories</th>\n",
       "    </tr>\n",
       "  </thead>\n",
       "  <tbody>\n",
       "    <tr>\n",
       "      <th>0</th>\n",
       "      <td>brand</td>\n",
       "      <td>All articles containing potentially dated stat...</td>\n",
       "    </tr>\n",
       "    <tr>\n",
       "      <th>1</th>\n",
       "      <td>brand</td>\n",
       "      <td>All articles needing additional references</td>\n",
       "    </tr>\n",
       "    <tr>\n",
       "      <th>2</th>\n",
       "      <td>brand</td>\n",
       "      <td>All articles with unsourced statements</td>\n",
       "    </tr>\n",
       "    <tr>\n",
       "      <th>3</th>\n",
       "      <td>brand</td>\n",
       "      <td>Articles containing potentially dated statemen...</td>\n",
       "    </tr>\n",
       "    <tr>\n",
       "      <th>4</th>\n",
       "      <td>brand</td>\n",
       "      <td>Articles needing additional references from Fe...</td>\n",
       "    </tr>\n",
       "    <tr>\n",
       "      <th>...</th>\n",
       "      <td>...</td>\n",
       "      <td>...</td>\n",
       "    </tr>\n",
       "    <tr>\n",
       "      <th>11760</th>\n",
       "      <td>Youth activism</td>\n",
       "      <td>missing periodical</td>\n",
       "    </tr>\n",
       "    <tr>\n",
       "      <th>11761</th>\n",
       "      <td>Youth activism</td>\n",
       "      <td>Education issues</td>\n",
       "    </tr>\n",
       "    <tr>\n",
       "      <th>11762</th>\n",
       "      <td>Youth activism</td>\n",
       "      <td>Short description matches Wikidata</td>\n",
       "    </tr>\n",
       "    <tr>\n",
       "      <th>11763</th>\n",
       "      <td>Youth activism</td>\n",
       "      <td>Wikipedia articles needing page number citatio...</td>\n",
       "    </tr>\n",
       "    <tr>\n",
       "      <th>11764</th>\n",
       "      <td>Youth activism</td>\n",
       "      <td>Youth</td>\n",
       "    </tr>\n",
       "  </tbody>\n",
       "</table>\n",
       "<p>11765 rows × 2 columns</p>\n",
       "</div>"
      ],
      "text/plain": [
       "                 page                                         categories\n",
       "0               brand  All articles containing potentially dated stat...\n",
       "1               brand         All articles needing additional references\n",
       "2               brand             All articles with unsourced statements\n",
       "3               brand  Articles containing potentially dated statemen...\n",
       "4               brand  Articles needing additional references from Fe...\n",
       "...               ...                                                ...\n",
       "11760  Youth activism                                 missing periodical\n",
       "11761  Youth activism                                   Education issues\n",
       "11762  Youth activism                 Short description matches Wikidata\n",
       "11763  Youth activism  Wikipedia articles needing page number citatio...\n",
       "11764  Youth activism                                              Youth\n",
       "\n",
       "[11765 rows x 2 columns]"
      ]
     },
     "execution_count": 60,
     "metadata": {},
     "output_type": "execute_result"
    }
   ],
   "source": [
    "# считывание данных из файла с выгруженными данными \n",
    "data_new = pd.read_csv('data for work.csv').drop(['Unnamed: 0'],axis=1)\n",
    "# data.categories = data.categories.str.replace('[','', regex=True)\n",
    "# data.categories = data.categories.str.replace(']','', regex=True)\n",
    "# data.categories = data.categories.apply(lambda x: x.split(', '))\n",
    "#data.categories = data.categories.str.replace(\"'\",'')\n",
    "data_new"
   ]
  },
  {
   "cell_type": "code",
   "execution_count": 61,
   "id": "1de9fb58",
   "metadata": {},
   "outputs": [
    {
     "name": "stderr",
     "output_type": "stream",
     "text": [
      "C:\\Users\\nadya\\anaconda3_1\\lib\\site-packages\\pandas\\core\\generic.py:5516: SettingWithCopyWarning: \n",
      "A value is trying to be set on a copy of a slice from a DataFrame.\n",
      "Try using .loc[row_indexer,col_indexer] = value instead\n",
      "\n",
      "See the caveats in the documentation: https://pandas.pydata.org/pandas-docs/stable/user_guide/indexing.html#returning-a-view-versus-a-copy\n",
      "  self[name] = value\n",
      "C:\\Users\\nadya\\AppData\\Local\\Temp/ipykernel_27388/4190429458.py:27: FutureWarning: The default value of regex will change from True to False in a future version. In addition, single character regular expressions will *not* be treated as literal strings when regex=True.\n",
      "  data_new.page = data_new.page.str.replace('.','')\n"
     ]
    },
    {
     "data": {
      "text/html": [
       "<div>\n",
       "<style scoped>\n",
       "    .dataframe tbody tr th:only-of-type {\n",
       "        vertical-align: middle;\n",
       "    }\n",
       "\n",
       "    .dataframe tbody tr th {\n",
       "        vertical-align: top;\n",
       "    }\n",
       "\n",
       "    .dataframe thead th {\n",
       "        text-align: right;\n",
       "    }\n",
       "</style>\n",
       "<table border=\"1\" class=\"dataframe\">\n",
       "  <thead>\n",
       "    <tr style=\"text-align: right;\">\n",
       "      <th></th>\n",
       "      <th>page</th>\n",
       "      <th>categories</th>\n",
       "    </tr>\n",
       "  </thead>\n",
       "  <tbody>\n",
       "    <tr>\n",
       "      <th>8</th>\n",
       "      <td>brand</td>\n",
       "      <td>Brand management</td>\n",
       "    </tr>\n",
       "    <tr>\n",
       "      <th>9</th>\n",
       "      <td>brand</td>\n",
       "      <td>Branding terminology</td>\n",
       "    </tr>\n",
       "    <tr>\n",
       "      <th>10</th>\n",
       "      <td>brand</td>\n",
       "      <td>Brands</td>\n",
       "    </tr>\n",
       "    <tr>\n",
       "      <th>13</th>\n",
       "      <td>brand</td>\n",
       "      <td>Communication design</td>\n",
       "    </tr>\n",
       "    <tr>\n",
       "      <th>14</th>\n",
       "      <td>brand</td>\n",
       "      <td>Graphic design</td>\n",
       "    </tr>\n",
       "    <tr>\n",
       "      <th>...</th>\n",
       "      <td>...</td>\n",
       "      <td>...</td>\n",
       "    </tr>\n",
       "    <tr>\n",
       "      <th>11750</th>\n",
       "      <td>Xerox</td>\n",
       "      <td>Purveyors to the Court of Denmark</td>\n",
       "    </tr>\n",
       "    <tr>\n",
       "      <th>11755</th>\n",
       "      <td>Xerox</td>\n",
       "      <td>Xerox</td>\n",
       "    </tr>\n",
       "    <tr>\n",
       "      <th>11756</th>\n",
       "      <td>Youth activism</td>\n",
       "      <td>Activism</td>\n",
       "    </tr>\n",
       "    <tr>\n",
       "      <th>11761</th>\n",
       "      <td>Youth activism</td>\n",
       "      <td>Education issues</td>\n",
       "    </tr>\n",
       "    <tr>\n",
       "      <th>11764</th>\n",
       "      <td>Youth activism</td>\n",
       "      <td>Youth</td>\n",
       "    </tr>\n",
       "  </tbody>\n",
       "</table>\n",
       "<p>4050 rows × 2 columns</p>\n",
       "</div>"
      ],
      "text/plain": [
       "                 page                         categories\n",
       "8               brand                   Brand management\n",
       "9               brand               Branding terminology\n",
       "10              brand                             Brands\n",
       "13              brand               Communication design\n",
       "14              brand                     Graphic design\n",
       "...               ...                                ...\n",
       "11750           Xerox  Purveyors to the Court of Denmark\n",
       "11755           Xerox                              Xerox\n",
       "11756  Youth activism                           Activism\n",
       "11761  Youth activism                   Education issues\n",
       "11764  Youth activism                              Youth\n",
       "\n",
       "[4050 rows x 2 columns]"
      ]
     },
     "execution_count": 61,
     "metadata": {},
     "output_type": "execute_result"
    }
   ],
   "source": [
    "# удаление неинформативных строк и удаление ненужных знаков препинания\n",
    "data_new = data_new[(data_new.categories.str.find('Article')==-1) \n",
    "                    &(data_new.categories.str.find('article')==-1) \n",
    "                    &(data_new.categories.str.find('URL')==-1)\n",
    "                    &(data_new.categories.str.find('pages')==-1)\n",
    "                    &(data_new.categories.str.find('url')==-1)\n",
    "                    &(data_new.categories.str.find('title')==-1)\n",
    "                    &(data_new.categories.str.find('from')==-1) \n",
    "                    &(data_new.categories.str.find('sources')==-1) \n",
    "                    &(data_new.categories.str.find('Pages')==-1)\n",
    "                    &(data_new.categories.str.find('Wiki')==-1)\n",
    "                    &(data_new.categories.str.find('links')==-1)\n",
    "                    &(data_new.categories.str.find('errors')==-1)\n",
    "                    &(data_new.categories.str.find('AC with 0 elements')==-1)\n",
    "                    &(data_new.categories.str.find('All accuracy disputes')==-1)\n",
    "                    &(data_new.categories.str.find('missing periodical')==-1)\n",
    "                    &(data_new.categories.str.find('Julian–Gregorian uncertainty')==-1)\n",
    "                    &(data_new.categories.str.find('long volume value')==-1)\n",
    "                    &(data_new.categories.str.find('authors list')==-1)\n",
    "                    &(data_new.categories.str.find('others')==-1)\n",
    "                    &(data_new.categories.str.find('expanded')==-1)\n",
    "                    &(data_new.categories.str.find(' location')==-1)\n",
    "                    &(data_new.categories.str.find('generic name')==-1)\n",
    "                    &(data_new.categories.str.find('use')==-1)\n",
    "                    &(data_new.categories.str.find('Use')==-1)]\n",
    "data_new.page = data_new.page.str.replace(',','')\n",
    "data_new.page = data_new.page.str.replace('.','')\n",
    "\n",
    "data_new"
   ]
  },
  {
   "cell_type": "code",
   "execution_count": 62,
   "id": "720e7156",
   "metadata": {},
   "outputs": [
    {
     "data": {
      "text/html": [
       "<div>\n",
       "<style scoped>\n",
       "    .dataframe tbody tr th:only-of-type {\n",
       "        vertical-align: middle;\n",
       "    }\n",
       "\n",
       "    .dataframe tbody tr th {\n",
       "        vertical-align: top;\n",
       "    }\n",
       "\n",
       "    .dataframe thead th {\n",
       "        text-align: right;\n",
       "    }\n",
       "</style>\n",
       "<table border=\"1\" class=\"dataframe\">\n",
       "  <thead>\n",
       "    <tr style=\"text-align: right;\">\n",
       "      <th></th>\n",
       "      <th>page</th>\n",
       "      <th>categories</th>\n",
       "    </tr>\n",
       "  </thead>\n",
       "  <tbody>\n",
       "    <tr>\n",
       "      <th>8</th>\n",
       "      <td>brand</td>\n",
       "      <td>Brand management</td>\n",
       "    </tr>\n",
       "    <tr>\n",
       "      <th>9</th>\n",
       "      <td>brand</td>\n",
       "      <td>Branding terminology</td>\n",
       "    </tr>\n",
       "    <tr>\n",
       "      <th>10</th>\n",
       "      <td>brand</td>\n",
       "      <td>Brands</td>\n",
       "    </tr>\n",
       "    <tr>\n",
       "      <th>13</th>\n",
       "      <td>brand</td>\n",
       "      <td>Communication design</td>\n",
       "    </tr>\n",
       "    <tr>\n",
       "      <th>14</th>\n",
       "      <td>brand</td>\n",
       "      <td>Graphic design</td>\n",
       "    </tr>\n",
       "    <tr>\n",
       "      <th>...</th>\n",
       "      <td>...</td>\n",
       "      <td>...</td>\n",
       "    </tr>\n",
       "    <tr>\n",
       "      <th>11750</th>\n",
       "      <td>Xerox</td>\n",
       "      <td>Purveyors to the Court of Denmark</td>\n",
       "    </tr>\n",
       "    <tr>\n",
       "      <th>11755</th>\n",
       "      <td>Xerox</td>\n",
       "      <td>Xerox</td>\n",
       "    </tr>\n",
       "    <tr>\n",
       "      <th>11756</th>\n",
       "      <td>Youth activism</td>\n",
       "      <td>Activism</td>\n",
       "    </tr>\n",
       "    <tr>\n",
       "      <th>11761</th>\n",
       "      <td>Youth activism</td>\n",
       "      <td>Education issues</td>\n",
       "    </tr>\n",
       "    <tr>\n",
       "      <th>11764</th>\n",
       "      <td>Youth activism</td>\n",
       "      <td>Youth</td>\n",
       "    </tr>\n",
       "  </tbody>\n",
       "</table>\n",
       "<p>4002 rows × 2 columns</p>\n",
       "</div>"
      ],
      "text/plain": [
       "                 page                         categories\n",
       "8               brand                   Brand management\n",
       "9               brand               Branding terminology\n",
       "10              brand                             Brands\n",
       "13              brand               Communication design\n",
       "14              brand                     Graphic design\n",
       "...               ...                                ...\n",
       "11750           Xerox  Purveyors to the Court of Denmark\n",
       "11755           Xerox                              Xerox\n",
       "11756  Youth activism                           Activism\n",
       "11761  Youth activism                   Education issues\n",
       "11764  Youth activism                              Youth\n",
       "\n",
       "[4002 rows x 2 columns]"
      ]
     },
     "execution_count": 62,
     "metadata": {},
     "output_type": "execute_result"
    }
   ],
   "source": [
    "# удаление дубликатов\n",
    "data_new.drop_duplicates()"
   ]
  },
  {
   "cell_type": "markdown",
   "id": "43d545d1",
   "metadata": {},
   "source": [
    "## Создание и визуализация графа "
   ]
  },
  {
   "cell_type": "code",
   "execution_count": 87,
   "id": "d86a651a",
   "metadata": {},
   "outputs": [],
   "source": [
    "# импорт необходимой библиотеки для работы с графами\n",
    "import networkx as nx\n",
    "# создаем граф из таблицы Pandas, где субъектами будут данные из столбца page, а объектами - из столбца categories\n",
    "graph = nx.from_pandas_edgelist(data_new, \"page\", \"categories\",create_using=nx.MultiDiGraph())"
   ]
  },
  {
   "cell_type": "code",
   "execution_count": 88,
   "id": "1943109e",
   "metadata": {},
   "outputs": [],
   "source": [
    "nx.write_edgelist(graph, \"data_1.edgelist\", delimiter='_', encoding = 'utf-8')"
   ]
  },
  {
   "cell_type": "code",
   "execution_count": 93,
   "id": "e207abd8",
   "metadata": {},
   "outputs": [
    {
     "data": {
      "text/plain": [
       "4000"
      ]
     },
     "execution_count": 93,
     "metadata": {},
     "output_type": "execute_result"
    }
   ],
   "source": [
    "gr = nx.read_edgelist(\"data_1.edgelist\", delimiter='_')\n",
    "len(gr.edges())"
   ]
  },
  {
   "cell_type": "code",
   "execution_count": 91,
   "id": "76ad9175",
   "metadata": {},
   "outputs": [
    {
     "data": {
      "text/html": [
       "\n",
       "        <iframe\n",
       "            width=\"100%\"\n",
       "            height=\"750px\"\n",
       "            src=\"mygraph_1.html\"\n",
       "            frameborder=\"0\"\n",
       "            allowfullscreen\n",
       "            \n",
       "        ></iframe>\n",
       "        "
      ],
      "text/plain": [
       "<IPython.lib.display.IFrame at 0x2392fb888b0>"
      ]
     },
     "execution_count": 91,
     "metadata": {},
     "output_type": "execute_result"
    }
   ],
   "source": [
    "# визуализация графа с помощью библиотеки pyvis\n",
    "from pyvis.network import Network\n",
    "import networkx as nx\n",
    "\n",
    "net = Network(height='750px', width='100%',  font_color='black',notebook=True,directed =True)\n",
    "net.from_nx(graph, show_edge_weights=False)\n",
    "\n",
    "net.toggle_physics(True)\n",
    "# сохранение и вывод полученного графа в виде файла html\n",
    "net.show('mygraph_1.html')"
   ]
  },
  {
   "cell_type": "markdown",
   "id": "0e3a00ce",
   "metadata": {},
   "source": [
    "# Анализ графа"
   ]
  },
  {
   "cell_type": "markdown",
   "id": "1dc8c5ec",
   "metadata": {},
   "source": [
    "## Количество вершин и связей "
   ]
  },
  {
   "cell_type": "code",
   "execution_count": 92,
   "id": "eddc5ff5",
   "metadata": {},
   "outputs": [
    {
     "name": "stdout",
     "output_type": "stream",
     "text": [
      "Количество вершин: 3071, Количество связей: 4050\n"
     ]
    }
   ],
   "source": [
    "# количество вершин\n",
    "N = len(graph.nodes())\n",
    "# количество связей\n",
    "L = len(graph.edges())\n",
    "print(f'Количество вершин: {N}, Количество связей: {L}')"
   ]
  },
  {
   "cell_type": "markdown",
   "id": "698eb3ff",
   "metadata": {},
   "source": [
    "## Плотность сети"
   ]
  },
  {
   "cell_type": "code",
   "execution_count": 94,
   "id": "0b47cb09",
   "metadata": {},
   "outputs": [
    {
     "name": "stdout",
     "output_type": "stream",
     "text": [
      "Плостность сети: 0.0009\n"
     ]
    }
   ],
   "source": [
    "# плотность сети\n",
    "pho = L/(N*(N-1)/2)\n",
    "print(f'Плостность сети: {pho:0.4f}')"
   ]
  },
  {
   "cell_type": "markdown",
   "id": "d511a3e5",
   "metadata": {},
   "source": [
    "## Центральность"
   ]
  },
  {
   "cell_type": "code",
   "execution_count": 95,
   "id": "038c05d1",
   "metadata": {},
   "outputs": [
    {
     "name": "stdout",
     "output_type": "stream",
     "text": [
      "Wall time: 70.4 ms\n"
     ]
    },
    {
     "data": {
      "text/html": [
       "<div>\n",
       "<style scoped>\n",
       "    .dataframe tbody tr th:only-of-type {\n",
       "        vertical-align: middle;\n",
       "    }\n",
       "\n",
       "    .dataframe tbody tr th {\n",
       "        vertical-align: top;\n",
       "    }\n",
       "\n",
       "    .dataframe thead th {\n",
       "        text-align: right;\n",
       "    }\n",
       "</style>\n",
       "<table border=\"1\" class=\"dataframe\">\n",
       "  <thead>\n",
       "    <tr style=\"text-align: right;\">\n",
       "      <th></th>\n",
       "      <th>0</th>\n",
       "    </tr>\n",
       "  </thead>\n",
       "  <tbody>\n",
       "    <tr>\n",
       "      <th>Lady Gaga</th>\n",
       "      <td>0.008</td>\n",
       "    </tr>\n",
       "    <tr>\n",
       "      <th>Naomi Klein</th>\n",
       "      <td>0.008</td>\n",
       "    </tr>\n",
       "    <tr>\n",
       "      <th>Brand management</th>\n",
       "      <td>0.007</td>\n",
       "    </tr>\n",
       "    <tr>\n",
       "      <th>Apple Inc</th>\n",
       "      <td>0.006</td>\n",
       "    </tr>\n",
       "    <tr>\n",
       "      <th>Nike Inc</th>\n",
       "      <td>0.005</td>\n",
       "    </tr>\n",
       "    <tr>\n",
       "      <th>Katy Perry</th>\n",
       "      <td>0.004</td>\n",
       "    </tr>\n",
       "    <tr>\n",
       "      <th>Honda</th>\n",
       "      <td>0.004</td>\n",
       "    </tr>\n",
       "    <tr>\n",
       "      <th>Hewlett-Packard</th>\n",
       "      <td>0.004</td>\n",
       "    </tr>\n",
       "    <tr>\n",
       "      <th>Toyota</th>\n",
       "      <td>0.004</td>\n",
       "    </tr>\n",
       "    <tr>\n",
       "      <th>Sony</th>\n",
       "      <td>0.004</td>\n",
       "    </tr>\n",
       "  </tbody>\n",
       "</table>\n",
       "</div>"
      ],
      "text/plain": [
       "                      0\n",
       "Lady Gaga         0.008\n",
       "Naomi Klein       0.008\n",
       "Brand management  0.007\n",
       "Apple Inc         0.006\n",
       "Nike Inc          0.005\n",
       "Katy Perry        0.004\n",
       "Honda             0.004\n",
       "Hewlett-Packard   0.004\n",
       "Toyota            0.004\n",
       "Sony              0.004"
      ]
     },
     "execution_count": 95,
     "metadata": {},
     "output_type": "execute_result"
    }
   ],
   "source": [
    "%%time\n",
    "# центральность по посредничеству\n",
    "d = dict(nx.degree(graph) )\n",
    "N = sum(d.values())\n",
    "# сохранение в переменную лучших 10 значений по данной центральности\n",
    "top = sorted(d, key=d.__getitem__)[-10:]\n",
    "dd = {}\n",
    "# нормировка и округление значений \n",
    "for i in top[::-1]:\n",
    "    dd[i] = round(d[i]/N,3)\n",
    "#  создание таблицы с данными и сохранение в файл csv\n",
    "df = pd.DataFrame.from_dict(dd, orient='index')\n",
    "df.to_csv('top_10_degree_centrality_1.csv',sep = ';')\n",
    "df"
   ]
  },
  {
   "cell_type": "code",
   "execution_count": 13,
   "id": "01be78ba",
   "metadata": {},
   "outputs": [
    {
     "name": "stdout",
     "output_type": "stream",
     "text": [
      "Wall time: 29.6 s\n"
     ]
    }
   ],
   "source": [
    "%%time\n",
    "# центральность по посредничеству\n",
    "d = nx.betweenness_centrality(graph) \n",
    "# сохранение в переменную лучших 10 значений по данной центральности\n",
    "top = sorted(d, key=d.__getitem__)[-10:]\n",
    "dd = {}\n",
    "# округление значений \n",
    "for i in top[::-1]:\n",
    "    dd[i] = round(d[i],3)\n",
    "#  создание таблицы с данными и сохранение в файл csv\n",
    "df = pd.DataFrame.from_dict(dd, orient='index')\n",
    "df.to_csv('top_10_betweenness_centrality_1.csv',sep = ';')\n",
    "df"
   ]
  },
  {
   "cell_type": "code",
   "execution_count": 14,
   "id": "0f1f99f7",
   "metadata": {},
   "outputs": [
    {
     "name": "stdout",
     "output_type": "stream",
     "text": [
      "Wall time: 8.08 s\n"
     ]
    }
   ],
   "source": [
    "%%time\n",
    "# центральность по близости\n",
    "d = nx.closeness_centrality(graph) \n",
    "# сохранение в переменную лучших 10 значений по данной центральности\n",
    "top = sorted(d, key=d.__getitem__)[-10:]\n",
    "dd = {}\n",
    "# округление значений \n",
    "for i in top[::-1]:\n",
    "    dd[i] = round(d[i],3)\n",
    "#  создание таблицы с данными и сохранение в файл csv\n",
    "df = pd.DataFrame.from_dict(dd, orient='index')\n",
    "df.to_csv('top_10_closeness_centrality_1.csv',sep = ';')\n",
    "df"
   ]
  },
  {
   "cell_type": "markdown",
   "id": "4f33f23d",
   "metadata": {},
   "source": [
    "## Построение распределения степеней вершин "
   ]
  },
  {
   "cell_type": "code",
   "execution_count": 16,
   "id": "d1bd71d0",
   "metadata": {},
   "outputs": [
    {
     "data": {
      "image/png": "[encoded data removed]",
      "text/plain": [
       "<Figure size 432x288 with 1 Axes>"
      ]
     },
     "metadata": {
      "needs_background": "light"
     },
     "output_type": "display_data"
    },
    {
     "data": {
      "image/png": "[encoded data removed]",
      "text/plain": [
       "<Figure size 432x288 with 1 Axes>"
      ]
     },
     "metadata": {
      "needs_background": "light"
     },
     "output_type": "display_data"
    }
   ],
   "source": [
    "# импорт необходимых библиотек\n",
    "import numpy as np\n",
    "import matplotlib.pyplot as plt\n",
    "\n",
    "# создание словаря частот степеней вершин в графе\n",
    "d = {}\n",
    "for i in graph.degree():\n",
    "    d[i[1]] = d.get(i[1],0)+1\n",
    "key = np.array(list(d.keys()))\n",
    "val = np.array(list(d.values()))\n",
    "# отрисовка полученного результата в линейных координатах\n",
    "plt.scatter(key,val/sum(val))\n",
    "plt.xlabel('Степень вершины')\n",
    "plt.ylabel('Нормированное количетсво узлов')\n",
    "plt.title('Плотность распределения вершин в линейных координатах')\n",
    "plt.ylim(-0.1,1)\n",
    "plt.savefig('Плотность распределения степеней вершин в линейных координатах.png')\n",
    "plt.show()\n",
    "\n",
    "# отрисовка полученного результата в log-log координатах\n",
    "plt.scatter(key,val/sum(val))\n",
    "plt.yscale('log')\n",
    "plt.xscale('log')\n",
    "plt.xlabel('Степень вершины')\n",
    "plt.ylabel('Нормированное количетсво узлов')\n",
    "plt.title('Плотность распределения вершин в log-log координатах')\n",
    "plt.savefig('Плотность распределения вершин в log-log координатах')\n",
    "\n",
    "plt.show()"
   ]
  },
  {
   "cell_type": "markdown",
   "id": "7bb6aa04",
   "metadata": {},
   "source": [
    "## Cumulative Distribution plot"
   ]
  },
  {
   "cell_type": "code",
   "execution_count": 17,
   "id": "73e82fc2",
   "metadata": {},
   "outputs": [
    {
     "data": {
      "image/png": "[encoded data removed]",
      "text/plain": [
       "<Figure size 432x288 with 1 Axes>"
      ]
     },
     "metadata": {
      "needs_background": "light"
     },
     "output_type": "display_data"
    }
   ],
   "source": [
    "key,val = [],[]\n",
    "d = {}\n",
    "# создание словаря частот степеней вершин в графе \n",
    "for i in graph.degree():\n",
    "    d[i[1]] = d.get(i[1],0)+1\n",
    "# создание упорядоченных рядов значений для отрисовки cdf\n",
    "for i in sorted(d):\n",
    "    key.append(i)\n",
    "    val.append(d[i])\n",
    "cs = np.cumsum(val)\n",
    "# отрисовка cdf\n",
    "plt.scatter(sorted(key), cs/max(cs))\n",
    "plt.title(\"Cumulative Distribution plot\")\n",
    "plt.xlabel(\"Degree\")\n",
    "plt.savefig('Cumulative Distribution plot')\n",
    "\n",
    "plt.show()"
   ]
  },
  {
   "cell_type": "markdown",
   "id": "6771fb2f",
   "metadata": {},
   "source": [
    "## Выявление сообществ (алгоритм Гирвана-Ньюмана)"
   ]
  },
  {
   "cell_type": "code",
   "execution_count": 17,
   "id": "01f25977",
   "metadata": {},
   "outputs": [
    {
     "name": "stderr",
     "output_type": "stream",
     "text": [
      "WARNING: You are using pip version 22.0.4; however, version 22.1 is available.\n",
      "You should consider upgrading via the 'C:\\Users\\nadya\\anaconda3_1\\python.exe -m pip install --upgrade pip' command.\n"
     ]
    },
    {
     "name": "stdout",
     "output_type": "stream",
     "text": [
      "Requirement already satisfied: python-louvain in c:\\users\\nadya\\anaconda3_1\\lib\\site-packages (0.16)\n",
      "Requirement already satisfied: networkx in c:\\users\\nadya\\anaconda3_1\\lib\\site-packages (from python-louvain) (2.6.3)\n",
      "Requirement already satisfied: numpy in c:\\users\\nadya\\anaconda3_1\\lib\\site-packages (from python-louvain) (1.20.3)\n"
     ]
    }
   ],
   "source": [
    "# установка библиотеки с Лувенским алгоритмом\n",
    "!pip install python-louvain"
   ]
  },
  {
   "cell_type": "code",
   "execution_count": 97,
   "id": "67d4664a",
   "metadata": {},
   "outputs": [
    {
     "ename": "TypeError",
     "evalue": "Bad graph type, use only non directed graph",
     "output_type": "error",
     "traceback": [
      "\u001b[1;31m---------------------------------------------------------------------------\u001b[0m",
      "\u001b[1;31mTypeError\u001b[0m                                 Traceback (most recent call last)",
      "\u001b[1;32m~\\AppData\\Local\\Temp/ipykernel_27388/1169247887.py\u001b[0m in \u001b[0;36m<module>\u001b[1;34m\u001b[0m\n\u001b[0;32m      2\u001b[0m \u001b[1;33m\u001b[0m\u001b[0m\n\u001b[0;32m      3\u001b[0m \u001b[1;31m# применение Лувенского алгоритма к графу, получаем словарь вершин со значениями номеров сообщества\u001b[0m\u001b[1;33m\u001b[0m\u001b[1;33m\u001b[0m\u001b[0m\n\u001b[1;32m----> 4\u001b[1;33m \u001b[0mpartition_object\u001b[0m \u001b[1;33m=\u001b[0m \u001b[0mcommunity_louvain\u001b[0m\u001b[1;33m.\u001b[0m\u001b[0mbest_partition\u001b[0m\u001b[1;33m(\u001b[0m\u001b[0mgraph\u001b[0m\u001b[1;33m)\u001b[0m\u001b[1;33m\u001b[0m\u001b[1;33m\u001b[0m\u001b[0m\n\u001b[0m\u001b[0;32m      5\u001b[0m \u001b[1;31m# количество выделенных сообщества\u001b[0m\u001b[1;33m\u001b[0m\u001b[1;33m\u001b[0m\u001b[0m\n\u001b[0;32m      6\u001b[0m \u001b[0mvalues\u001b[0m \u001b[1;33m=\u001b[0m \u001b[1;33m[\u001b[0m\u001b[0mpartition_object\u001b[0m\u001b[1;33m.\u001b[0m\u001b[0mget\u001b[0m\u001b[1;33m(\u001b[0m\u001b[0mnode\u001b[0m\u001b[1;33m)\u001b[0m \u001b[1;32mfor\u001b[0m \u001b[0mnode\u001b[0m \u001b[1;32min\u001b[0m \u001b[0mgraph\u001b[0m\u001b[1;33m.\u001b[0m\u001b[0mnodes\u001b[0m\u001b[1;33m(\u001b[0m\u001b[1;33m)\u001b[0m\u001b[1;33m]\u001b[0m\u001b[1;33m\u001b[0m\u001b[1;33m\u001b[0m\u001b[0m\n",
      "\u001b[1;32m~\\anaconda3_1\\lib\\site-packages\\community\\community_louvain.py\u001b[0m in \u001b[0;36mbest_partition\u001b[1;34m(graph, partition, weight, resolution, randomize, random_state)\u001b[0m\n\u001b[0;32m    247\u001b[0m     \u001b[1;33m>>\u001b[0m\u001b[1;33m>\u001b[0m \u001b[0mplt\u001b[0m\u001b[1;33m.\u001b[0m\u001b[0mshow\u001b[0m\u001b[1;33m(\u001b[0m\u001b[1;33m)\u001b[0m\u001b[1;33m\u001b[0m\u001b[1;33m\u001b[0m\u001b[0m\n\u001b[0;32m    248\u001b[0m     \"\"\"\n\u001b[1;32m--> 249\u001b[1;33m     dendo = generate_dendrogram(graph,\n\u001b[0m\u001b[0;32m    250\u001b[0m                                 \u001b[0mpartition\u001b[0m\u001b[1;33m,\u001b[0m\u001b[1;33m\u001b[0m\u001b[1;33m\u001b[0m\u001b[0m\n\u001b[0;32m    251\u001b[0m                                 \u001b[0mweight\u001b[0m\u001b[1;33m,\u001b[0m\u001b[1;33m\u001b[0m\u001b[1;33m\u001b[0m\u001b[0m\n",
      "\u001b[1;32m~\\anaconda3_1\\lib\\site-packages\\community\\community_louvain.py\u001b[0m in \u001b[0;36mgenerate_dendrogram\u001b[1;34m(graph, part_init, weight, resolution, randomize, random_state)\u001b[0m\n\u001b[0;32m    320\u001b[0m     \"\"\"\n\u001b[0;32m    321\u001b[0m     \u001b[1;32mif\u001b[0m \u001b[0mgraph\u001b[0m\u001b[1;33m.\u001b[0m\u001b[0mis_directed\u001b[0m\u001b[1;33m(\u001b[0m\u001b[1;33m)\u001b[0m\u001b[1;33m:\u001b[0m\u001b[1;33m\u001b[0m\u001b[1;33m\u001b[0m\u001b[0m\n\u001b[1;32m--> 322\u001b[1;33m         \u001b[1;32mraise\u001b[0m \u001b[0mTypeError\u001b[0m\u001b[1;33m(\u001b[0m\u001b[1;34m\"Bad graph type, use only non directed graph\"\u001b[0m\u001b[1;33m)\u001b[0m\u001b[1;33m\u001b[0m\u001b[1;33m\u001b[0m\u001b[0m\n\u001b[0m\u001b[0;32m    323\u001b[0m \u001b[1;33m\u001b[0m\u001b[0m\n\u001b[0;32m    324\u001b[0m     \u001b[1;31m# Properly handle random state, eventually remove old `randomize` parameter\u001b[0m\u001b[1;33m\u001b[0m\u001b[1;33m\u001b[0m\u001b[0m\n",
      "\u001b[1;31mTypeError\u001b[0m: Bad graph type, use only non directed graph"
     ]
    }
   ],
   "source": [
    "from community import community_louvain\n",
    "\n",
    "# применение Лувенского алгоритма к графу, получаем словарь вершин со значениями номеров сообщества\n",
    "partition_object = community_louvain.best_partition(graph)\n",
    "# количество выделенных сообщества\n",
    "values = [partition_object.get(node) for node in graph.nodes()]\n",
    "print(f'Количество выявленных сообществ: {len(set(values))}')"
   ]
  },
  {
   "cell_type": "code",
   "execution_count": 19,
   "id": "33dea921",
   "metadata": {},
   "outputs": [],
   "source": [
    "# список цветов для раскрашивания \n",
    "color_list = [\"#51a8ff\",\"#f80a0e\",\"#01f3aa\",\"#b63ff1\",\"#95d700\",\"#310090\",\"#a3ff67\",\"#ac00bc\",\"#01d658\",\"#fa6bff\",\n",
    "\"#85ff7e\",\"#4c008c\",\"#cbff69\",\"#6f68ff\",\"#d9d200\",\"#012294\",\"#fdff62\",\"#710093\",\"#64ff9e\",\"#f800a2\",\"#00a028\",\"#b871ff\",\n",
    "\"#2b8e00\",\"#bc009f\",\"#b2ff91\",\"#42006c\",\"#fffc73\",\"#004ec0\",\"#a4b400\",\"#7876ff\",\"#5c9600\",\"#ff7ef3\",\"#019737\",\"#ff50be\",\n",
    "\"#01f8d5\",\"#ef0020\",\"#58f7ff\",\"#fe005b\",\"#7cffd1\",\"#e1006e\",\"#00a467\",\"#b40066\",\"#e8ff81\",\"#200046\",\"#ffe76a\",\"#013e98\",\n",
    "\"#b5a800\",\"#016fdc\",\"#e69300\",\"#6c9bff\",\"#ff7c18\",\"#02b2f1\",\"#ff5c21\",\"#00d9cf\",\"#ff4c47\",\"#02a1a1\",\"#a11a00\",\"#66c8ff\",\n",
    "\"#ac0022\",\"#c6ffa0\",\"#560053\",\"#e7ff9e\",\"#1f0035\",\"#ffd55a\",\"#002b63\",\"#cc9700\",\"#0289d0\",\"#c57900\",\"#0066a6\",\"#ffbf62\",\n",
    "\"#170027\",\"#ffee9c\",\"#001b30\",\"#ffd574\",\"#005088\",\"#b15000\",\"#8fc1ff\",\"#792000\",\"#c2fffc\",\"#a0003a\",\"#d1ffcd\",\"#710049\",\n",
    "\"#00743b\",\"#ff5594\",\"#114b00\",\"#ffa8ee\",\"#5e7100\",\"#a9adff\",\"#8d6e00\",\"#c5cbff\",\"#1b3b00\",\"#ff90d0\",\"#005831\",\"#ff6d97\",\n",
    "\"#00856f\",\"#900053\",\"#b5e3ff\",\"#581400\",\"#fbf8ff\",\"#00181b\",\"#ff7b6c\",\"#002e16\",\"#ffc0f4\",\"#2a2c00\",\"#ffd9f0\",\"#261300\",\n",
    "\"#ffece8\",\"#4c0023\",\"#ffe0b4\",\"#00324f\",\"#ffbc85\",\"#002e28\",\"#ff8496\",\"#017695\",\"#ffa686\",\"#431d00\",\"#685e00\",\"#64001f\",\n",
    "\"#7c5400\",\"#703500\"]\n",
    "\n",
    "# создание палитры цветов для нашего разделения на сообщества\n",
    "color_list = color_list[0:len(set(values))]\n",
    "# создание массива Pandas для присвоения цвета к номеру сообщества\n",
    "color_dict = pd.Series(color_list,\n",
    "        index=np.arange(0,len(set(values)))).to_dict()\n",
    "# заменяем номера сообществ на цвета в словаре \n",
    "for key, value in partition_object.items():\n",
    "    partition_object[key] = color_dict[value]\n",
    "\n",
    "# добавляем к вершинам графа атрибут цвета\n",
    "nx.set_node_attributes(graph, partition_object, 'color')"
   ]
  },
  {
   "cell_type": "code",
   "execution_count": 20,
   "id": "28fbe392",
   "metadata": {},
   "outputs": [],
   "source": [
    "# https://gist.github.com/maciejkos/e3bc958aac9e7a245dddff8d86058e17\n",
    "def draw_graph3(networkx_graph,notebook=True,output_filename='graph.html',show_buttons=True,only_physics_buttons=False,\n",
    "                height=None,width=None,bgcolor=None,font_color=None,pyvis_options=None):\n",
    "    \"\"\"\n",
    "    Функция принимает на вход граф networkx и преобразует его в pyvis граф с множеством атрибутов\n",
    "    , затем отрисовывает полученный граф\n",
    "    notebook - показывать ли граф в Jupyter Notebook\n",
    "    output_filename - как назвать файл с получившейся визуализацией\n",
    "    show_buttons - показывать ли кнопки управления визуализацией\n",
    "    only_physics_buttons - показывать ли кнопки управления визуализацией отвечающие за движения графа\n",
    "    height - высота окна визуализации\n",
    "    width - ширина окна визуализации\n",
    "    bgcolor - цвет фона\n",
    "    font_color - цвет подписей\n",
    "    pyvis_options - доп опции pyvis \n",
    "    \"\"\"\n",
    "\n",
    "    # импортируем библиотеку\n",
    "    from pyvis import network as net\n",
    "\n",
    "    # создаем pyvis граф\n",
    "    network_class_parameters = {\"notebook\": notebook, \"height\": height, \"width\": width, \"bgcolor\": bgcolor, \"font_color\": font_color}\n",
    "    pyvis_graph = net.Network(**{parameter_name: parameter_value for parameter_name, parameter_value in network_class_parameters.items() if parameter_value})\n",
    "\n",
    "    # добавляем в граф вершины с атрибутами \n",
    "    for node,node_attrs in networkx_graph.nodes(data=True):\n",
    "        pyvis_graph.add_node(node,**node_attrs,default_node_size=15, default_edge_weight=1)\n",
    "\n",
    "    # добавление связей в граф с атрибутами\n",
    "    for source,target,edge_attrs in networkx_graph.edges(data=True):\n",
    "        if not 'value' in edge_attrs and not 'width' in edge_attrs and 'weight' in edge_attrs:\n",
    "            edge_attrs['value']=edge_attrs['weight']\n",
    "        pyvis_graph.add_edge(source,target,**edge_attrs)\n",
    "\n",
    "    # включение кнопок управления графом \n",
    "    if show_buttons:\n",
    "        if only_physics_buttons:\n",
    "            pyvis_graph.show_buttons(filter_=['physics'])\n",
    "        else:\n",
    "            pyvis_graph.show_buttons()\n",
    "\n",
    "    # добавление специальных опций графу\n",
    "    if pyvis_options:\n",
    "        pyvis_graph.set_options(pyvis_options)\n",
    "\n",
    "    # возвращает html файл, который также сохраняется и выводится на экран\n",
    "    return pyvis_graph.show(output_filename)"
   ]
  },
  {
   "cell_type": "code",
   "execution_count": 21,
   "id": "1dcaec44",
   "metadata": {
    "scrolled": false
   },
   "outputs": [
    {
     "data": {
      "text/html": [
       "\n",
       "        <iframe\n",
       "            width=\"1000px\"\n",
       "            height=\"1000px\"\n",
       "            src=\"graph_output_communities.html\"\n",
       "            frameborder=\"0\"\n",
       "            allowfullscreen\n",
       "            \n",
       "        ></iframe>\n",
       "        "
      ],
      "text/plain": [
       "<IPython.lib.display.IFrame at 0x290c6c1a460>"
      ]
     },
     "execution_count": 21,
     "metadata": {},
     "output_type": "execute_result"
    }
   ],
   "source": [
    "# применянем функцию к нашему графу с выявленными сообществами \n",
    "draw_graph3(graph, height = '1000px', width = '1000px', \n",
    "            show_buttons=False,\n",
    "            output_filename='graph_output_communities.html', notebook=True)"
   ]
  },
  {
   "cell_type": "code",
   "execution_count": 23,
   "id": "c7873e10",
   "metadata": {
    "scrolled": false
   },
   "outputs": [
    {
     "data": {
      "text/html": [
       "\n",
       "        <iframe\n",
       "            width=\"100%\"\n",
       "            height=\"750px\"\n",
       "            src=\"mysubgraph_brand.html\"\n",
       "            frameborder=\"0\"\n",
       "            allowfullscreen\n",
       "            \n",
       "        ></iframe>\n",
       "        "
      ],
      "text/plain": [
       "<IPython.lib.display.IFrame at 0x290c6c1a370>"
      ]
     },
     "execution_count": 23,
     "metadata": {},
     "output_type": "execute_result"
    }
   ],
   "source": [
    "from pyvis.network import Network\n",
    "import networkx as nx\n",
    "# отбираем сообщество, где находится вершина brand\n",
    "selected_nodes = [n for n,v in graph.nodes(data=True) if v['color'] == list(graph.nodes['brand'].values())[0]]  \n",
    "# сохраняем в переменную подграф с сообществом около вершины brand\n",
    "sub_graph = graph.subgraph(selected_nodes)\n",
    "# рисуем подграф\n",
    "net = Network(height='750px', width='100%', font_color='black',notebook=True)\n",
    "net.from_nx(sub_graph,default_node_size=15, default_edge_weight=1, show_edge_weights=False)\n",
    "net.toggle_physics(True)\n",
    "# выводим на экран и сохраняем рисунок\n",
    "net.show('mysubgraph_brand.html')"
   ]
  },
  {
   "cell_type": "code",
   "execution_count": 24,
   "id": "07c1b4e9",
   "metadata": {},
   "outputs": [
    {
     "data": {
      "text/html": [
       "\n",
       "        <iframe\n",
       "            width=\"100%\"\n",
       "            height=\"750px\"\n",
       "            src=\"mysubgraph_Toyota.html\"\n",
       "            frameborder=\"0\"\n",
       "            allowfullscreen\n",
       "            \n",
       "        ></iframe>\n",
       "        "
      ],
      "text/plain": [
       "<IPython.lib.display.IFrame at 0x290c6e269a0>"
      ]
     },
     "execution_count": 24,
     "metadata": {},
     "output_type": "execute_result"
    }
   ],
   "source": [
    "# отбираем сообщество, где находится вершина Toyota\n",
    "selected_nodes = [n for n,v in graph.nodes(data=True) if v['color'] == list(graph.nodes['Toyota'].values())[0]]  \n",
    "# сохраняем в переменную подграф с сообществом около вершины Toyota\n",
    "sub_graph = graph.subgraph(selected_nodes)\n",
    "# рисуем подграф\n",
    "net = Network(height='750px', width='100%', font_color='black',notebook=True)\n",
    "net.from_nx(sub_graph,default_node_size=15, default_edge_weight=1, show_edge_weights=False)\n",
    "net.repulsion(node_distance=200, spring_length=100)\n",
    "net.toggle_physics(True)\n",
    "# выводим на экран и сохраняем рисунок\n",
    "net.show('mysubgraph_Toyota.html')"
   ]
  },
  {
   "cell_type": "code",
   "execution_count": 26,
   "id": "0ccd86d1",
   "metadata": {},
   "outputs": [
    {
     "data": {
      "text/html": [
       "\n",
       "        <iframe\n",
       "            width=\"100%\"\n",
       "            height=\"750px\"\n",
       "            src=\"mysubgraph_lady_gaga.html\"\n",
       "            frameborder=\"0\"\n",
       "            allowfullscreen\n",
       "            \n",
       "        ></iframe>\n",
       "        "
      ],
      "text/plain": [
       "<IPython.lib.display.IFrame at 0x290c6c1a070>"
      ]
     },
     "execution_count": 26,
     "metadata": {},
     "output_type": "execute_result"
    }
   ],
   "source": [
    "# отбираем сообщество, где находится вершина Lady Gaga\n",
    "selected_nodes = [n for n,v in graph.nodes(data=True) if v['color'] == list(graph.nodes['Lady Gaga'].values())[0]]  \n",
    "# сохраняем в переменную подграф с сообществом около вершины Lady Gaga\n",
    "sub_graph = graph.subgraph(selected_nodes)\n",
    "# рисуем подграф\n",
    "net = Network(height='750px', width='100%',  font_color='blue',notebook=True)\n",
    "net.from_nx(sub_graph,default_node_size=15, default_edge_weight=1, show_edge_weights=False)\n",
    "net.toggle_physics(True)\n",
    "# выводим на экран и сохраняем рисунок\n",
    "net.show('mysubgraph_lady_gaga.html')"
   ]
  },
  {
   "cell_type": "code",
   "execution_count": 27,
   "id": "61f1c5ac",
   "metadata": {},
   "outputs": [
    {
     "data": {
      "text/html": [
       "\n",
       "        <iframe\n",
       "            width=\"100%\"\n",
       "            height=\"750px\"\n",
       "            src=\"mysubgraph_usa_brands.html\"\n",
       "            frameborder=\"0\"\n",
       "            allowfullscreen\n",
       "            \n",
       "        ></iframe>\n",
       "        "
      ],
      "text/plain": [
       "<IPython.lib.display.IFrame at 0x290c6c12910>"
      ]
     },
     "execution_count": 27,
     "metadata": {},
     "output_type": "execute_result"
    }
   ],
   "source": [
    "# отбираем сообщество, где находится вершина Multinational companies headquartered in the United States\n",
    "selected_nodes = [n for n,v in graph.nodes(data=True) if v['color'] == list(graph.nodes['Multinational companies headquartered in the United States'].values())[0]]  \n",
    "# сохраняем в переменную подграф с сообществом около вершины Multinational companies headquartered in the United States\n",
    "sub_graph = graph.subgraph(selected_nodes)\n",
    "# рисуем подграф\n",
    "net = Network(height='750px', width='100%', font_color='black',notebook=True)\n",
    "net.repulsion(node_distance=250, spring_length=150)\n",
    "\n",
    "net.from_nx(sub_graph,default_node_size=15, default_edge_weight=1, show_edge_weights=False)\n",
    "net.toggle_physics(True)\n",
    "# выводим на экран и сохраняем рисунок\n",
    "net.show('mysubgraph_usa_brands.html')"
   ]
  },
  {
   "cell_type": "code",
   "execution_count": 28,
   "id": "5aafac40",
   "metadata": {},
   "outputs": [
    {
     "data": {
      "text/html": [
       "\n",
       "        <iframe\n",
       "            width=\"100%\"\n",
       "            height=\"750px\"\n",
       "            src=\"mysubgraph_fake_news.html\"\n",
       "            frameborder=\"0\"\n",
       "            allowfullscreen\n",
       "            \n",
       "        ></iframe>\n",
       "        "
      ],
      "text/plain": [
       "<IPython.lib.display.IFrame at 0x290c6956850>"
      ]
     },
     "execution_count": 28,
     "metadata": {},
     "output_type": "execute_result"
    }
   ],
   "source": [
    "# отбираем сообщество, где находится вершина Fake news website\n",
    "selected_nodes = [n for n,v in graph.nodes(data=True) if v['color'] == list(graph.nodes['Fake news website'].values())[0]]  \n",
    "# сохраняем в переменную подграф с сообществом около вершины Fake news website\n",
    "sub_graph = graph.subgraph(selected_nodes)\n",
    "# рисуем подграф\n",
    "net = Network(height='750px', width='100%', font_color='black',notebook=True)\n",
    "net.from_nx(sub_graph,default_node_size=15, default_edge_weight=1, show_edge_weights=False)\n",
    "net.repulsion(node_distance=200, spring_length=50)\n",
    "\n",
    "net.toggle_physics(True)\n",
    "# выводим на экран и сохраняем рисунок\n",
    "net.show('mysubgraph_fake_news.html')"
   ]
  },
  {
   "cell_type": "code",
   "execution_count": 57,
   "id": "9ae2d1f9",
   "metadata": {},
   "outputs": [],
   "source": [
    "selected_nodes = [n for n,v in graph.nodes(data=True) if v['color'] == list(graph.nodes['Apple Inc'].values())[0]]  \n",
    "sub_graph = graph.subgraph(selected_nodes)\n",
    "net = Network(height='750px', width='100%', font_color='black',notebook=True)\n",
    "net.from_nx(sub_graph,default_node_size=15, default_edge_weight=1, show_edge_weights=False)\n",
    "net.toggle_physics(True)\n",
    "net.repulsion(node_distance=300, spring_length=50)\n",
    "\n",
    "net.show('mysubgraph_apple.html')"
   ]
  },
  {
   "cell_type": "code",
   "execution_count": 36,
   "id": "35f3f7a8",
   "metadata": {},
   "outputs": [],
   "source": [
    "selected_nodes = [n for n,v in graph.nodes(data=True) if v['color'] == list(graph.nodes['Chanel'].values())[0]]  \n",
    "sub_graph = graph.subgraph(selected_nodes)\n",
    "net = Network(height='750px', width='100%', font_color='black',notebook=True)\n",
    "net.from_nx(sub_graph,default_node_size=15, default_edge_weight=1, show_edge_weights=False)\n",
    "net.toggle_physics(True)\n",
    "net.show('mysubgraph_Chanel.html')"
   ]
  },
  {
   "cell_type": "code",
   "execution_count": 37,
   "id": "c04e0c5a",
   "metadata": {},
   "outputs": [],
   "source": [
    "scale=5 # Scaling the size of the nodes by 10*degree\n",
    "d = dict(graph.degree)\n",
    "\n",
    "#Updating dict\n",
    "d.update((x, scale*y) for x, y in d.items())\n",
    "\n",
    "#Setting up size attribute\n",
    "nx.set_node_attributes(graph,d,'size')\n",
    "\n",
    "G2 = Network(height='750px', width='100%', font_color='black',notebook=True)\n",
    "G2.from_nx(graph)\n",
    "G2.show(\"graph_sized.html\")"
   ]
  },
  {
   "cell_type": "code",
   "execution_count": 40,
   "id": "9b3a52db",
   "metadata": {},
   "outputs": [],
   "source": [
    "selected_nodes = [n for n,v in graph.nodes(data=True) if v['size'] > 100]  \n",
    "sub_graph = graph.subgraph(selected_nodes)\n",
    "net = Network(height='750px', width='100%', font_color='black',notebook=True)\n",
    "net.from_nx(sub_graph,default_node_size=15, default_edge_weight=1, show_edge_weights=False)\n",
    "net.repulsion(node_distance=500, spring_length=500)\n",
    "net.toggle_physics(True)\n",
    "net.show('graph_sized_only_big.html')"
   ]
  },
  {
   "cell_type": "code",
   "execution_count": 42,
   "id": "c70c937e",
   "metadata": {},
   "outputs": [],
   "source": [
    "selected_nodes = [n for n,v in graph.nodes(data=True) if v['color'] == list(graph.nodes['Apple Inc'].values())[0]]  \n",
    "sub_graph = graph.subgraph(selected_nodes)\n",
    "net = Network(height='750px', width='100%', font_color='black',notebook=True)\n",
    "net.from_nx(sub_graph,default_node_size=15, default_edge_weight=1, show_edge_weights=False)\n",
    "net.repulsion(node_distance=500, spring_length=100)\n",
    "net.toggle_physics(True)\n",
    "net.show('graph_apple.html')"
   ]
  },
  {
   "cell_type": "code",
   "execution_count": null,
   "id": "fa67e112",
   "metadata": {},
   "outputs": [],
   "source": []
  }
 ],
 "metadata": {
  "kernelspec": {
   "display_name": "Python 3 (ipykernel)",
   "language": "python",
   "name": "python3"
  },
  "language_info": {
   "codemirror_mode": {
    "name": "ipython",
    "version": 3
   },
   "file_extension": ".py",
   "mimetype": "text/x-python",
   "name": "python",
   "nbconvert_exporter": "python",
   "pygments_lexer": "ipython3",
   "version": "3.9.7"
  }
 },
 "nbformat": 4,
 "nbformat_minor": 5
}
